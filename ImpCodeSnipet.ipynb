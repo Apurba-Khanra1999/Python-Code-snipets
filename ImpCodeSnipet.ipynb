{
 "cells": [
  {
   "cell_type": "markdown",
   "id": "3eb1f650",
   "metadata": {},
   "source": [
    "## Taking User-Input List"
   ]
  },
  {
   "cell_type": "code",
   "execution_count": 2,
   "id": "56623c0f",
   "metadata": {},
   "outputs": [
    {
     "name": "stdout",
     "output_type": "stream",
     "text": [
      "Enter the number of elements : 5\n",
      "Enter elements : 41\n",
      "Enter elements : 20\n",
      "Enter elements : 59\n",
      "Enter elements : 78\n",
      "Enter elements : 66\n"
     ]
    },
    {
     "data": {
      "text/plain": [
       "[41, 20, 59, 78, 66]"
      ]
     },
     "execution_count": 2,
     "metadata": {},
     "output_type": "execute_result"
    }
   ],
   "source": [
    "n=int(input(\"Enter the number of elements : \"))\n",
    "a=[]\n",
    "for i in range(0,n):\n",
    "    b=int(input(\"Enter elements : \"))\n",
    "    a.append(b)\n",
    "a"
   ]
  },
  {
   "cell_type": "markdown",
   "id": "e4e68ba1",
   "metadata": {},
   "source": [
    "### Largest element"
   ]
  },
  {
   "cell_type": "code",
   "execution_count": 3,
   "id": "5258f89a",
   "metadata": {},
   "outputs": [
    {
     "name": "stdout",
     "output_type": "stream",
     "text": [
      "[20, 41, 59, 66, 78]\n",
      "78\n"
     ]
    }
   ],
   "source": [
    "a.sort()\n",
    "print(a)\n",
    "print(a[-1])"
   ]
  },
  {
   "cell_type": "markdown",
   "id": "b28f37fb",
   "metadata": {},
   "source": [
    "### Second Largest element"
   ]
  },
  {
   "cell_type": "code",
   "execution_count": 4,
   "id": "e9c40db1",
   "metadata": {},
   "outputs": [
    {
     "name": "stdout",
     "output_type": "stream",
     "text": [
      "[20, 41, 59, 66, 78]\n",
      "66\n"
     ]
    }
   ],
   "source": [
    "a.sort()\n",
    "print(a)\n",
    "print(a[-2])"
   ]
  },
  {
   "cell_type": "markdown",
   "id": "36f80deb",
   "metadata": {},
   "source": [
    "### Even-Odd in different List"
   ]
  },
  {
   "cell_type": "code",
   "execution_count": 5,
   "id": "f3b33006",
   "metadata": {},
   "outputs": [
    {
     "name": "stdout",
     "output_type": "stream",
     "text": [
      "[41, 59]\n",
      "[20, 66, 78]\n"
     ]
    }
   ],
   "source": [
    "i=0\n",
    "odd=[]\n",
    "even=[]\n",
    "for i in a:\n",
    "    if(i%2==0):\n",
    "        even.append(i)\n",
    "    else:\n",
    "        odd.append(i)\n",
    "print(odd)\n",
    "print(even)"
   ]
  },
  {
   "cell_type": "markdown",
   "id": "3e9fa2af",
   "metadata": {},
   "source": [
    "### Merge two list and Sort it"
   ]
  },
  {
   "cell_type": "code",
   "execution_count": 6,
   "id": "8b02a4b0",
   "metadata": {},
   "outputs": [
    {
     "name": "stdout",
     "output_type": "stream",
     "text": [
      "[41, 59, 20, 66, 78]\n",
      "[20, 41, 59, 66, 78]\n"
     ]
    }
   ],
   "source": [
    "merged_list=odd+even\n",
    "\n",
    "print(merged_list)\n",
    "merged_list.sort()\n",
    "print(merged_list)"
   ]
  },
  {
   "cell_type": "markdown",
   "id": "61b694fe",
   "metadata": {},
   "source": [
    "### Sort List acc to Length of elements"
   ]
  },
  {
   "cell_type": "code",
   "execution_count": 7,
   "id": "43b1419d",
   "metadata": {},
   "outputs": [
    {
     "ename": "TypeError",
     "evalue": "object of type 'int' has no len()",
     "output_type": "error",
     "traceback": [
      "\u001b[1;31m---------------------------------------------------------------------------\u001b[0m",
      "\u001b[1;31mTypeError\u001b[0m                                 Traceback (most recent call last)",
      "\u001b[1;32m~\\AppData\\Local\\Temp/ipykernel_17496/2261766923.py\u001b[0m in \u001b[0;36m<module>\u001b[1;34m\u001b[0m\n\u001b[1;32m----> 1\u001b[1;33m \u001b[0ma\u001b[0m\u001b[1;33m.\u001b[0m\u001b[0msort\u001b[0m\u001b[1;33m(\u001b[0m\u001b[0mkey\u001b[0m\u001b[1;33m=\u001b[0m\u001b[0mlen\u001b[0m\u001b[1;33m)\u001b[0m\u001b[1;33m\u001b[0m\u001b[1;33m\u001b[0m\u001b[0m\n\u001b[0m",
      "\u001b[1;31mTypeError\u001b[0m: object of type 'int' has no len()"
     ]
    }
   ],
   "source": [
    "a.sort(key=len)"
   ]
  },
  {
   "cell_type": "markdown",
   "id": "6e42a2ae",
   "metadata": {},
   "source": [
    "### Intersection of two list"
   ]
  },
  {
   "cell_type": "code",
   "execution_count": null,
   "id": "6bab834a",
   "metadata": {},
   "outputs": [],
   "source": [
    "def intersection(lst1,lst2):\n",
    "    return list(set(a) & set(b))"
   ]
  },
  {
   "cell_type": "markdown",
   "id": "86d1b17e",
   "metadata": {},
   "source": [
    "### List of tuple first element as no. and second as the squre of no."
   ]
  },
  {
   "cell_type": "code",
   "execution_count": null,
   "id": "6881db00",
   "metadata": {},
   "outputs": [],
   "source": [
    "lower_range = int(input(\"Enter the lower range : \"))\n",
    "upper_range = int(input(\"Enter the upper range : \"))\n",
    "d=[(i, i**2) for i in range(lower_range,upper_range+1)]\n",
    "print(d)"
   ]
  },
  {
   "cell_type": "markdown",
   "id": "12610ff9",
   "metadata": {},
   "source": [
    "### Checking squareRoot of a number"
   ]
  },
  {
   "cell_type": "code",
   "execution_count": null,
   "id": "052eb149",
   "metadata": {},
   "outputs": [],
   "source": [
    "no=[16,121,25]\n",
    "s=[(i,i**0.5) for i in no]\n",
    "s"
   ]
  },
  {
   "cell_type": "markdown",
   "id": "bf1a72de",
   "metadata": {},
   "source": [
    "### Cumulative sum of all elements in List"
   ]
  },
  {
   "cell_type": "code",
   "execution_count": null,
   "id": "8e7cbc56",
   "metadata": {},
   "outputs": [],
   "source": [
    "b=[sum(a[0:i+1]) for i in range(0,len(a))]\n",
    "b"
   ]
  },
  {
   "cell_type": "markdown",
   "id": "f9c378d5",
   "metadata": {},
   "source": [
    "### Generate Random no and append them in List"
   ]
  },
  {
   "cell_type": "code",
   "execution_count": null,
   "id": "54a6a3e5",
   "metadata": {},
   "outputs": [],
   "source": [
    "import random\n",
    "aa=[]\n",
    "n=int(input(\"Enter the no of elements : \"))\n",
    "for i in range(n):\n",
    "    aa.append(random.randint(0,50))\n",
    "aa"
   ]
  },
  {
   "cell_type": "code",
   "execution_count": null,
   "id": "03eca59b",
   "metadata": {},
   "outputs": [],
   "source": [
    "color_list=['Truth','Dare','Suppose']\n",
    "random.choice(color_list)"
   ]
  },
  {
   "cell_type": "markdown",
   "id": "d2f55ad7",
   "metadata": {},
   "source": [
    "### Swapping Last and first element in a List"
   ]
  },
  {
   "cell_type": "code",
   "execution_count": null,
   "id": "9b07f58d",
   "metadata": {},
   "outputs": [],
   "source": [
    "print(a)\n",
    "temp=a[0]\n",
    "a[0]=a[n-1]\n",
    "a[n-1]=temp \n",
    "print(a)"
   ]
  },
  {
   "cell_type": "markdown",
   "id": "77a7098f",
   "metadata": {},
   "source": [
    "### Removing duplicate element"
   ]
  },
  {
   "cell_type": "code",
   "execution_count": null,
   "id": "76285b66",
   "metadata": {},
   "outputs": [],
   "source": [
    "aa=[10,20,30,40,40,10,50]\n",
    "aa=set(aa)\n",
    "print(aa)"
   ]
  },
  {
   "cell_type": "code",
   "execution_count": 8,
   "id": "5e90847d",
   "metadata": {},
   "outputs": [
    {
     "data": {
      "text/plain": [
       "[20, 41, 59, 66, 78]"
      ]
     },
     "execution_count": 8,
     "metadata": {},
     "output_type": "execute_result"
    }
   ],
   "source": [
    "a"
   ]
  },
  {
   "cell_type": "markdown",
   "id": "a0fccd4f",
   "metadata": {},
   "source": [
    "### Frequency of the element in List"
   ]
  },
  {
   "cell_type": "code",
   "execution_count": 9,
   "id": "2493e8f5",
   "metadata": {},
   "outputs": [
    {
     "data": {
      "text/plain": [
       "Counter({10: 3, 20: 2, 30: 4, 40: 1, 50: 2})"
      ]
     },
     "execution_count": 9,
     "metadata": {},
     "output_type": "execute_result"
    }
   ],
   "source": [
    "import collections\n",
    "lst=[10,10,10,20,20,30,30,30,30,40,50,50]\n",
    "collections.Counter(lst)"
   ]
  },
  {
   "cell_type": "markdown",
   "id": "756b6913",
   "metadata": {},
   "source": [
    "### Concatenating a given list from 1-n"
   ]
  },
  {
   "cell_type": "code",
   "execution_count": 19,
   "id": "190cef0c",
   "metadata": {},
   "outputs": [
    {
     "data": {
      "text/plain": [
       "['M0', 'N0', 'M1', 'N1', 'M2', 'N2', 'M3', 'N3', 'M4', 'N4', 'M5', 'N5']"
      ]
     },
     "execution_count": 19,
     "metadata": {},
     "output_type": "execute_result"
    }
   ],
   "source": [
    "lst=['M','N']\n",
    "p=5\n",
    "lst_new=['{}{}'.format(x,y) for y in range(0,p+1) for x in lst]\n",
    "lst_new"
   ]
  },
  {
   "cell_type": "markdown",
   "id": "c464233d",
   "metadata": {},
   "source": [
    "### List of multiple int into Single int"
   ]
  },
  {
   "cell_type": "code",
   "execution_count": 24,
   "id": "69837921",
   "metadata": {},
   "outputs": [
    {
     "data": {
      "text/plain": [
       "8568504"
      ]
     },
     "execution_count": 24,
     "metadata": {},
     "output_type": "execute_result"
    }
   ],
   "source": [
    "lst=[8,56,85,0,4]\n",
    "x=int(\"\".join(map(str,lst)))\n",
    "x"
   ]
  },
  {
   "cell_type": "code",
   "execution_count": null,
   "id": "f5f70ec7",
   "metadata": {},
   "outputs": [],
   "source": []
  }
 ],
 "metadata": {
  "kernelspec": {
   "display_name": "Python 3 (ipykernel)",
   "language": "python",
   "name": "python3"
  },
  "language_info": {
   "codemirror_mode": {
    "name": "ipython",
    "version": 3
   },
   "file_extension": ".py",
   "mimetype": "text/x-python",
   "name": "python",
   "nbconvert_exporter": "python",
   "pygments_lexer": "ipython3",
   "version": "3.10.0"
  }
 },
 "nbformat": 4,
 "nbformat_minor": 5
}
